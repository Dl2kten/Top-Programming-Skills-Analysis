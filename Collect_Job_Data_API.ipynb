{
 "cells": [
  {
   "cell_type": "markdown",
   "metadata": {},
   "source": [
    "# Use GitHub Jobs API to collect Jobs Data"
   ]
  },
  {
   "cell_type": "code",
   "execution_count": 1,
   "metadata": {},
   "outputs": [],
   "source": [
    "import requests\n",
    "import pandas as pd\n",
    "import json"
   ]
  },
  {
   "cell_type": "code",
   "execution_count": 2,
   "metadata": {},
   "outputs": [],
   "source": [
    "api_url='http://127.0.0.1:5000/data' # from Jobs_API flask server"
   ]
  },
  {
   "cell_type": "markdown",
   "metadata": {},
   "source": [
    "<p><b>Functions to get number of jobs based on technology and location</b></p>"
   ]
  },
  {
   "cell_type": "code",
   "execution_count": 11,
   "metadata": {},
   "outputs": [],
   "source": [
    "def get_number_of_jobs_T(technology):\n",
    "    payload={'Key Skills': technology}\n",
    "    response=requests.get(api_url, params=payload)\n",
    "    number_of_jobs=0\n",
    "    if response.ok:\n",
    "        print('OK')\n",
    "        data=response.json()\n",
    "        number_of_jobs=len(data)\n",
    "    else:\n",
    "        print('Error with request')\n",
    "    return technology,number_of_jobs"
   ]
  },
  {
   "cell_type": "code",
   "execution_count": 5,
   "metadata": {},
   "outputs": [],
   "source": [
    "def get_number_of_jobs_L(location):\n",
    "    payload={'Location': location}\n",
    "    response=requests.get(api_url, params=payload)\n",
    "    number_of_jobs=0\n",
    "    if response.ok:\n",
    "        print('OK')\n",
    "        data=response.json()\n",
    "        number_of_jobs=len(data)\n",
    "    else:\n",
    "        print('Error with request')\n",
    "    return location,number_of_jobs"
   ]
  },
  {
   "cell_type": "code",
   "execution_count": 6,
   "metadata": {},
   "outputs": [
    {
     "name": "stdout",
     "output_type": "stream",
     "text": [
      "OK\n"
     ]
    },
    {
     "data": {
      "text/plain": [
       "('Los Angeles', 640)"
      ]
     },
     "execution_count": 6,
     "metadata": {},
     "output_type": "execute_result"
    }
   ],
   "source": [
    "get_number_of_jobs_L('Los Angeles')"
   ]
  },
  {
   "cell_type": "code",
   "execution_count": 7,
   "metadata": {},
   "outputs": [
    {
     "name": "stdout",
     "output_type": "stream",
     "text": [
      "OK\n"
     ]
    },
    {
     "data": {
      "text/plain": [
       "('Python', 1173)"
      ]
     },
     "execution_count": 7,
     "metadata": {},
     "output_type": "execute_result"
    }
   ],
   "source": [
    "get_number_of_jobs_T(\"Python\")"
   ]
  },
  {
   "cell_type": "code",
   "execution_count": 9,
   "metadata": {},
   "outputs": [
    {
     "name": "stdout",
     "output_type": "stream",
     "text": [
      "OK\n",
      "Los Angeles 640\n",
      "OK\n",
      "New York 3226\n",
      "OK\n",
      "San Francisco 435\n",
      "OK\n",
      "Washington DC 5316\n",
      "OK\n",
      "Seattle 3375\n"
     ]
    }
   ],
   "source": [
    "cities=[\"Los Angeles\", \"New York\", \"San Francisco\", \"Washington DC\", \"Seattle\"]\n",
    "for c in cities:\n",
    "    c, jobs = get_number_of_jobs_L(c)\n",
    "    print(c, jobs)"
   ]
  },
  {
   "cell_type": "markdown",
   "metadata": {},
   "source": [
    "<p><b>Create Workbook and save to xlsx file</b></p>"
   ]
  },
  {
   "cell_type": "code",
   "execution_count": 8,
   "metadata": {},
   "outputs": [
    {
     "name": "stderr",
     "output_type": "stream",
     "text": [
      "\n",
      "[notice] A new release of pip is available: 24.0 -> 24.2\n",
      "[notice] To update, run: python.exe -m pip install --upgrade pip\n"
     ]
    },
    {
     "name": "stdout",
     "output_type": "stream",
     "text": [
      "Requirement already satisfied: openpyxl in c:\\users\\david\\appdata\\local\\programs\\python\\python312\\lib\\site-packages (3.1.5)\n",
      "Requirement already satisfied: et-xmlfile in c:\\users\\david\\appdata\\local\\programs\\python\\python312\\lib\\site-packages (from openpyxl) (1.1.0)\n",
      "Note: you may need to restart the kernel to use updated packages.\n"
     ]
    }
   ],
   "source": [
    "%pip install openpyxl\n",
    "import openpyxl\n",
    "from openpyxl import Workbook"
   ]
  },
  {
   "cell_type": "code",
   "execution_count": 12,
   "metadata": {},
   "outputs": [
    {
     "name": "stdout",
     "output_type": "stream",
     "text": [
      "OK\n",
      "C 13498\n",
      "OK\n",
      "C# 333\n",
      "OK\n",
      "C++ 305\n",
      "OK\n",
      "Java 2609\n",
      "OK\n",
      "JavaScript 355\n",
      "OK\n",
      "Python 1173\n",
      "OK\n",
      "Scala 33\n",
      "OK\n",
      "Oracle 784\n",
      "OK\n",
      "SQL Server 250\n",
      "OK\n",
      "MySQL Server 0\n",
      "OK\n",
      "PostgreSQL 10\n",
      "OK\n",
      "MongoDB 174\n"
     ]
    }
   ],
   "source": [
    "wb=Workbook() # create workbook\n",
    "ws=wb.active # use active worksheet\n",
    "ws.delete_rows(1, ws.max_row) # delete all rows if there are any, first time I appended wrong numbers\n",
    "ws.append(['Technology', 'Jobs'])\n",
    "tech_list=['C', 'C#', 'C++', 'Java', 'JavaScript', 'Python', 'Scala', 'Oracle', 'SQL Server', 'MySQL Server', 'PostgreSQL', 'MongoDB']\n",
    "for tech in tech_list:\n",
    "    t, jobs = get_number_of_jobs_T(tech)\n",
    "    print(t, jobs)\n",
    "    ws.append([t, jobs])\n",
    "wb.save('github-job-postings.xlsx')"
   ]
  },
  {
   "cell_type": "code",
   "execution_count": null,
   "metadata": {},
   "outputs": [],
   "source": []
  }
 ],
 "metadata": {
  "kernelspec": {
   "display_name": "Python 3",
   "language": "python",
   "name": "python3"
  },
  "language_info": {
   "codemirror_mode": {
    "name": "ipython",
    "version": 3
   },
   "file_extension": ".py",
   "mimetype": "text/x-python",
   "name": "python",
   "nbconvert_exporter": "python",
   "pygments_lexer": "ipython3",
   "version": "3.12.2"
  }
 },
 "nbformat": 4,
 "nbformat_minor": 2
}
